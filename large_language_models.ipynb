{
 "cells": [
  {
   "cell_type": "code",
   "execution_count": 26,
   "metadata": {},
   "outputs": [
    {
     "name": "stdout",
     "output_type": "stream",
     "text": [
      "['hi', 'my', 'name', 'is', 'sam', 'and', 'i', 'am', 'practising', 'programming']\n"
     ]
    }
   ],
   "source": [
    "text = \"hi my name is sam and i am practising programming\"\n",
    "token = text.split()\n",
    "print(token)"
   ]
  },
  {
   "cell_type": "code",
   "execution_count": 27,
   "metadata": {},
   "outputs": [
    {
     "data": {
      "text/plain": [
       "['hii my name is sam', 'i am  a programmner']"
      ]
     },
     "execution_count": 27,
     "metadata": {},
     "output_type": "execute_result"
    }
   ],
   "source": [
    "text2 = \"hii my name is sam. i am  a programmner\"\n",
    "text2.split(\". \")"
   ]
  },
  {
   "cell_type": "code",
   "execution_count": 28,
   "metadata": {},
   "outputs": [
    {
     "name": "stdout",
     "output_type": "stream",
     "text": [
      "Defaulting to user installation because normal site-packages is not writeable\n",
      "Requirement already satisfied: nltk in c:\\users\\santh\\appdata\\local\\packages\\pythonsoftwarefoundation.python.3.12_qbz5n2kfra8p0\\localcache\\local-packages\\python312\\site-packages (3.9.1)\n",
      "Requirement already satisfied: click in c:\\users\\santh\\appdata\\local\\packages\\pythonsoftwarefoundation.python.3.12_qbz5n2kfra8p0\\localcache\\local-packages\\python312\\site-packages (from nltk) (8.1.8)\n",
      "Requirement already satisfied: joblib in c:\\users\\santh\\appdata\\local\\packages\\pythonsoftwarefoundation.python.3.12_qbz5n2kfra8p0\\localcache\\local-packages\\python312\\site-packages (from nltk) (1.4.2)\n",
      "Requirement already satisfied: regex>=2021.8.3 in c:\\users\\santh\\appdata\\local\\packages\\pythonsoftwarefoundation.python.3.12_qbz5n2kfra8p0\\localcache\\local-packages\\python312\\site-packages (from nltk) (2024.11.6)\n",
      "Requirement already satisfied: tqdm in c:\\users\\santh\\appdata\\local\\packages\\pythonsoftwarefoundation.python.3.12_qbz5n2kfra8p0\\localcache\\local-packages\\python312\\site-packages (from nltk) (4.67.1)\n",
      "Requirement already satisfied: colorama in c:\\users\\santh\\appdata\\local\\packages\\pythonsoftwarefoundation.python.3.12_qbz5n2kfra8p0\\localcache\\local-packages\\python312\\site-packages (from click->nltk) (0.4.6)\n",
      "Note: you may need to restart the kernel to use updated packages.\n"
     ]
    }
   ],
   "source": [
    "%pip install nltk"
   ]
  },
  {
   "cell_type": "code",
   "execution_count": 29,
   "metadata": {},
   "outputs": [
    {
     "name": "stderr",
     "output_type": "stream",
     "text": [
      "[nltk_data] Downloading package punkt_tab to\n",
      "[nltk_data]     C:\\Users\\santh\\AppData\\Roaming\\nltk_data...\n",
      "[nltk_data]   Package punkt_tab is already up-to-date!\n"
     ]
    },
    {
     "data": {
      "text/plain": [
       "True"
      ]
     },
     "execution_count": 29,
     "metadata": {},
     "output_type": "execute_result"
    }
   ],
   "source": [
    "import nltk\n",
    "nltk.download('punkt_tab')"
   ]
  },
  {
   "cell_type": "code",
   "execution_count": 30,
   "metadata": {},
   "outputs": [
    {
     "name": "stdout",
     "output_type": "stream",
     "text": [
      "['i', 'am', 'sam', 'and', 'i', 'am', 'a', 'python', 'programmer']\n"
     ]
    }
   ],
   "source": [
    "from nltk.tokenize import word_tokenize\n",
    "\n",
    "\n",
    "text = \"i am sam and i am a python programmer\"\n",
    "\n",
    "tokens = word_tokenize(text)\n",
    "print(tokens)"
   ]
  },
  {
   "cell_type": "code",
   "execution_count": 31,
   "metadata": {},
   "outputs": [
    {
     "name": "stdout",
     "output_type": "stream",
     "text": [
      "['i am sam.', 'i am a python programmer']\n"
     ]
    }
   ],
   "source": [
    "from nltk.tokenize import sent_tokenize\n",
    "\n",
    "text = \"i am sam. i am a python programmer\"\n",
    "tokens = sent_tokenize(text)\n",
    "print(tokens)"
   ]
  },
  {
   "cell_type": "code",
   "execution_count": 32,
   "metadata": {},
   "outputs": [],
   "source": [
    "#stop words\n",
    "\n",
    "from nltk.corpus import stopwords"
   ]
  },
  {
   "cell_type": "code",
   "execution_count": 33,
   "metadata": {},
   "outputs": [
    {
     "name": "stderr",
     "output_type": "stream",
     "text": [
      "[nltk_data] Downloading package stopwords to\n",
      "[nltk_data]     C:\\Users\\santh\\AppData\\Roaming\\nltk_data...\n",
      "[nltk_data]   Package stopwords is already up-to-date!\n"
     ]
    },
    {
     "data": {
      "text/plain": [
       "True"
      ]
     },
     "execution_count": 33,
     "metadata": {},
     "output_type": "execute_result"
    }
   ],
   "source": [
    "nltk.download(\"stopwords\")"
   ]
  },
  {
   "cell_type": "code",
   "execution_count": 34,
   "metadata": {},
   "outputs": [],
   "source": [
    "text = 'In the heart of an ancient forest, where sunlight barely pierced the dense canopy of leaves, a hidden village thrived in harmonious coexistence with nature. The villagers, renowned for their unparalleled craftsmanship, used time-honored techniques passed down through generations to create exquisite pieces of art from the very trees that sheltered them'\n",
    "\n",
    "stop_words = set(stopwords.words('english'))\n",
    "word_token = word_tokenize(text)\n",
    "\n",
    "filtered_sentence = []\n",
    "\n",
    "for w in word_token:\n",
    "    if w not in stop_words:\n",
    "        filtered_sentence.append(w)"
   ]
  },
  {
   "cell_type": "code",
   "execution_count": 35,
   "metadata": {},
   "outputs": [
    {
     "name": "stdout",
     "output_type": "stream",
     "text": [
      "ORIGINAL WORDS\n",
      "\n",
      "['In', 'the', 'heart', 'of', 'an', 'ancient', 'forest', ',', 'where', 'sunlight', 'barely', 'pierced', 'the', 'dense', 'canopy', 'of', 'leaves', ',', 'a', 'hidden', 'village', 'thrived', 'in', 'harmonious', 'coexistence', 'with', 'nature', '.', 'The', 'villagers', ',', 'renowned', 'for', 'their', 'unparalleled', 'craftsmanship', ',', 'used', 'time-honored', 'techniques', 'passed', 'down', 'through', 'generations', 'to', 'create', 'exquisite', 'pieces', 'of', 'art', 'from', 'the', 'very', 'trees', 'that', 'sheltered', 'them']\n"
     ]
    }
   ],
   "source": [
    "print(\"ORIGINAL WORDS\\n\")\n",
    "print(word_token)"
   ]
  },
  {
   "cell_type": "code",
   "execution_count": 36,
   "metadata": {},
   "outputs": [
    {
     "name": "stdout",
     "output_type": "stream",
     "text": [
      "FILTERED WORDS\n",
      "\n",
      "['In', 'heart', 'ancient', 'forest', ',', 'sunlight', 'barely', 'pierced', 'dense', 'canopy', 'leaves', ',', 'hidden', 'village', 'thrived', 'harmonious', 'coexistence', 'nature', '.', 'The', 'villagers', ',', 'renowned', 'unparalleled', 'craftsmanship', ',', 'used', 'time-honored', 'techniques', 'passed', 'generations', 'create', 'exquisite', 'pieces', 'art', 'trees', 'sheltered']\n"
     ]
    }
   ],
   "source": [
    "print(\"FILTERED WORDS\\n\")\n",
    "print(filtered_sentence)"
   ]
  },
  {
   "cell_type": "code",
   "execution_count": 37,
   "metadata": {},
   "outputs": [
    {
     "name": "stdout",
     "output_type": "stream",
     "text": [
      "ORIGINAL SENTENCE\n",
      "\n",
      "In the heart of an ancient forest , where sunlight barely pierced the dense canopy of leaves , a hidden village thrived in harmonious coexistence with nature . The villagers , renowned for their unparalleled craftsmanship , used time-honored techniques passed down through generations to create exquisite pieces of art from the very trees that sheltered them\n"
     ]
    }
   ],
   "source": [
    "print(\"ORIGINAL SENTENCE\\n\")\n",
    "print(\" \".join(word_token))"
   ]
  },
  {
   "cell_type": "code",
   "execution_count": 38,
   "metadata": {},
   "outputs": [
    {
     "name": "stdout",
     "output_type": "stream",
     "text": [
      "FILTERED SENTENCE\n",
      "\n",
      "In heart ancient forest , sunlight barely pierced dense canopy leaves , hidden village thrived harmonious coexistence nature . The villagers , renowned unparalleled craftsmanship , used time-honored techniques passed generations create exquisite pieces art trees sheltered\n"
     ]
    }
   ],
   "source": [
    "print(\"FILTERED SENTENCE\\n\")\n",
    "print(\" \".join(filtered_sentence))"
   ]
  },
  {
   "cell_type": "code",
   "execution_count": 39,
   "metadata": {},
   "outputs": [
    {
     "name": "stdout",
     "output_type": "stream",
     "text": [
      "Defaulting to user installation because normal site-packages is not writeable\n",
      "Requirement already satisfied: spacy in c:\\users\\santh\\appdata\\local\\packages\\pythonsoftwarefoundation.python.3.12_qbz5n2kfra8p0\\localcache\\local-packages\\python312\\site-packages (3.8.4)\n",
      "Requirement already satisfied: spacy-legacy<3.1.0,>=3.0.11 in c:\\users\\santh\\appdata\\local\\packages\\pythonsoftwarefoundation.python.3.12_qbz5n2kfra8p0\\localcache\\local-packages\\python312\\site-packages (from spacy) (3.0.12)\n",
      "Requirement already satisfied: spacy-loggers<2.0.0,>=1.0.0 in c:\\users\\santh\\appdata\\local\\packages\\pythonsoftwarefoundation.python.3.12_qbz5n2kfra8p0\\localcache\\local-packages\\python312\\site-packages (from spacy) (1.0.5)\n",
      "Requirement already satisfied: murmurhash<1.1.0,>=0.28.0 in c:\\users\\santh\\appdata\\local\\packages\\pythonsoftwarefoundation.python.3.12_qbz5n2kfra8p0\\localcache\\local-packages\\python312\\site-packages (from spacy) (1.0.12)\n",
      "Requirement already satisfied: cymem<2.1.0,>=2.0.2 in c:\\users\\santh\\appdata\\local\\packages\\pythonsoftwarefoundation.python.3.12_qbz5n2kfra8p0\\localcache\\local-packages\\python312\\site-packages (from spacy) (2.0.11)\n",
      "Requirement already satisfied: preshed<3.1.0,>=3.0.2 in c:\\users\\santh\\appdata\\local\\packages\\pythonsoftwarefoundation.python.3.12_qbz5n2kfra8p0\\localcache\\local-packages\\python312\\site-packages (from spacy) (3.0.9)\n",
      "Requirement already satisfied: thinc<8.4.0,>=8.3.4 in c:\\users\\santh\\appdata\\local\\packages\\pythonsoftwarefoundation.python.3.12_qbz5n2kfra8p0\\localcache\\local-packages\\python312\\site-packages (from spacy) (8.3.4)\n",
      "Requirement already satisfied: wasabi<1.2.0,>=0.9.1 in c:\\users\\santh\\appdata\\local\\packages\\pythonsoftwarefoundation.python.3.12_qbz5n2kfra8p0\\localcache\\local-packages\\python312\\site-packages (from spacy) (1.1.3)\n",
      "Requirement already satisfied: srsly<3.0.0,>=2.4.3 in c:\\users\\santh\\appdata\\local\\packages\\pythonsoftwarefoundation.python.3.12_qbz5n2kfra8p0\\localcache\\local-packages\\python312\\site-packages (from spacy) (2.5.1)\n",
      "Requirement already satisfied: catalogue<2.1.0,>=2.0.6 in c:\\users\\santh\\appdata\\local\\packages\\pythonsoftwarefoundation.python.3.12_qbz5n2kfra8p0\\localcache\\local-packages\\python312\\site-packages (from spacy) (2.0.10)\n",
      "Requirement already satisfied: weasel<0.5.0,>=0.1.0 in c:\\users\\santh\\appdata\\local\\packages\\pythonsoftwarefoundation.python.3.12_qbz5n2kfra8p0\\localcache\\local-packages\\python312\\site-packages (from spacy) (0.4.1)\n",
      "Requirement already satisfied: typer<1.0.0,>=0.3.0 in c:\\users\\santh\\appdata\\local\\packages\\pythonsoftwarefoundation.python.3.12_qbz5n2kfra8p0\\localcache\\local-packages\\python312\\site-packages (from spacy) (0.15.1)\n",
      "Requirement already satisfied: tqdm<5.0.0,>=4.38.0 in c:\\users\\santh\\appdata\\local\\packages\\pythonsoftwarefoundation.python.3.12_qbz5n2kfra8p0\\localcache\\local-packages\\python312\\site-packages (from spacy) (4.67.1)\n",
      "Requirement already satisfied: numpy>=1.19.0 in c:\\users\\santh\\appdata\\local\\packages\\pythonsoftwarefoundation.python.3.12_qbz5n2kfra8p0\\localcache\\local-packages\\python312\\site-packages (from spacy) (2.2.2)\n",
      "Requirement already satisfied: requests<3.0.0,>=2.13.0 in c:\\users\\santh\\appdata\\local\\packages\\pythonsoftwarefoundation.python.3.12_qbz5n2kfra8p0\\localcache\\local-packages\\python312\\site-packages (from spacy) (2.32.3)\n",
      "Requirement already satisfied: pydantic!=1.8,!=1.8.1,<3.0.0,>=1.7.4 in c:\\users\\santh\\appdata\\local\\packages\\pythonsoftwarefoundation.python.3.12_qbz5n2kfra8p0\\localcache\\local-packages\\python312\\site-packages (from spacy) (2.10.6)\n",
      "Requirement already satisfied: jinja2 in c:\\users\\santh\\appdata\\local\\packages\\pythonsoftwarefoundation.python.3.12_qbz5n2kfra8p0\\localcache\\local-packages\\python312\\site-packages (from spacy) (3.1.5)\n",
      "Requirement already satisfied: setuptools in c:\\users\\santh\\appdata\\local\\packages\\pythonsoftwarefoundation.python.3.12_qbz5n2kfra8p0\\localcache\\local-packages\\python312\\site-packages (from spacy) (75.8.0)\n",
      "Requirement already satisfied: packaging>=20.0 in c:\\users\\santh\\appdata\\local\\packages\\pythonsoftwarefoundation.python.3.12_qbz5n2kfra8p0\\localcache\\local-packages\\python312\\site-packages (from spacy) (24.2)\n",
      "Requirement already satisfied: langcodes<4.0.0,>=3.2.0 in c:\\users\\santh\\appdata\\local\\packages\\pythonsoftwarefoundation.python.3.12_qbz5n2kfra8p0\\localcache\\local-packages\\python312\\site-packages (from spacy) (3.5.0)\n",
      "Requirement already satisfied: language-data>=1.2 in c:\\users\\santh\\appdata\\local\\packages\\pythonsoftwarefoundation.python.3.12_qbz5n2kfra8p0\\localcache\\local-packages\\python312\\site-packages (from langcodes<4.0.0,>=3.2.0->spacy) (1.3.0)\n",
      "Requirement already satisfied: annotated-types>=0.6.0 in c:\\users\\santh\\appdata\\local\\packages\\pythonsoftwarefoundation.python.3.12_qbz5n2kfra8p0\\localcache\\local-packages\\python312\\site-packages (from pydantic!=1.8,!=1.8.1,<3.0.0,>=1.7.4->spacy) (0.7.0)\n",
      "Requirement already satisfied: pydantic-core==2.27.2 in c:\\users\\santh\\appdata\\local\\packages\\pythonsoftwarefoundation.python.3.12_qbz5n2kfra8p0\\localcache\\local-packages\\python312\\site-packages (from pydantic!=1.8,!=1.8.1,<3.0.0,>=1.7.4->spacy) (2.27.2)\n",
      "Requirement already satisfied: typing-extensions>=4.12.2 in c:\\users\\santh\\appdata\\local\\packages\\pythonsoftwarefoundation.python.3.12_qbz5n2kfra8p0\\localcache\\local-packages\\python312\\site-packages (from pydantic!=1.8,!=1.8.1,<3.0.0,>=1.7.4->spacy) (4.12.2)\n",
      "Requirement already satisfied: charset-normalizer<4,>=2 in c:\\users\\santh\\appdata\\local\\packages\\pythonsoftwarefoundation.python.3.12_qbz5n2kfra8p0\\localcache\\local-packages\\python312\\site-packages (from requests<3.0.0,>=2.13.0->spacy) (3.4.1)\n",
      "Requirement already satisfied: idna<4,>=2.5 in c:\\users\\santh\\appdata\\local\\packages\\pythonsoftwarefoundation.python.3.12_qbz5n2kfra8p0\\localcache\\local-packages\\python312\\site-packages (from requests<3.0.0,>=2.13.0->spacy) (3.10)\n",
      "Requirement already satisfied: urllib3<3,>=1.21.1 in c:\\users\\santh\\appdata\\local\\packages\\pythonsoftwarefoundation.python.3.12_qbz5n2kfra8p0\\localcache\\local-packages\\python312\\site-packages (from requests<3.0.0,>=2.13.0->spacy) (2.3.0)\n",
      "Requirement already satisfied: certifi>=2017.4.17 in c:\\users\\santh\\appdata\\local\\packages\\pythonsoftwarefoundation.python.3.12_qbz5n2kfra8p0\\localcache\\local-packages\\python312\\site-packages (from requests<3.0.0,>=2.13.0->spacy) (2025.1.31)\n",
      "Requirement already satisfied: blis<1.3.0,>=1.2.0 in c:\\users\\santh\\appdata\\local\\packages\\pythonsoftwarefoundation.python.3.12_qbz5n2kfra8p0\\localcache\\local-packages\\python312\\site-packages (from thinc<8.4.0,>=8.3.4->spacy) (1.2.0)\n",
      "Requirement already satisfied: confection<1.0.0,>=0.0.1 in c:\\users\\santh\\appdata\\local\\packages\\pythonsoftwarefoundation.python.3.12_qbz5n2kfra8p0\\localcache\\local-packages\\python312\\site-packages (from thinc<8.4.0,>=8.3.4->spacy) (0.1.5)\n",
      "Requirement already satisfied: colorama in c:\\users\\santh\\appdata\\local\\packages\\pythonsoftwarefoundation.python.3.12_qbz5n2kfra8p0\\localcache\\local-packages\\python312\\site-packages (from tqdm<5.0.0,>=4.38.0->spacy) (0.4.6)\n",
      "Requirement already satisfied: click>=8.0.0 in c:\\users\\santh\\appdata\\local\\packages\\pythonsoftwarefoundation.python.3.12_qbz5n2kfra8p0\\localcache\\local-packages\\python312\\site-packages (from typer<1.0.0,>=0.3.0->spacy) (8.1.8)\n",
      "Requirement already satisfied: shellingham>=1.3.0 in c:\\users\\santh\\appdata\\local\\packages\\pythonsoftwarefoundation.python.3.12_qbz5n2kfra8p0\\localcache\\local-packages\\python312\\site-packages (from typer<1.0.0,>=0.3.0->spacy) (1.5.4)\n",
      "Requirement already satisfied: rich>=10.11.0 in c:\\users\\santh\\appdata\\local\\packages\\pythonsoftwarefoundation.python.3.12_qbz5n2kfra8p0\\localcache\\local-packages\\python312\\site-packages (from typer<1.0.0,>=0.3.0->spacy) (13.9.4)\n",
      "Requirement already satisfied: cloudpathlib<1.0.0,>=0.7.0 in c:\\users\\santh\\appdata\\local\\packages\\pythonsoftwarefoundation.python.3.12_qbz5n2kfra8p0\\localcache\\local-packages\\python312\\site-packages (from weasel<0.5.0,>=0.1.0->spacy) (0.20.0)\n",
      "Requirement already satisfied: smart-open<8.0.0,>=5.2.1 in c:\\users\\santh\\appdata\\local\\packages\\pythonsoftwarefoundation.python.3.12_qbz5n2kfra8p0\\localcache\\local-packages\\python312\\site-packages (from weasel<0.5.0,>=0.1.0->spacy) (7.1.0)\n",
      "Requirement already satisfied: MarkupSafe>=2.0 in c:\\users\\santh\\appdata\\local\\packages\\pythonsoftwarefoundation.python.3.12_qbz5n2kfra8p0\\localcache\\local-packages\\python312\\site-packages (from jinja2->spacy) (3.0.2)\n",
      "Requirement already satisfied: marisa-trie>=1.1.0 in c:\\users\\santh\\appdata\\local\\packages\\pythonsoftwarefoundation.python.3.12_qbz5n2kfra8p0\\localcache\\local-packages\\python312\\site-packages (from language-data>=1.2->langcodes<4.0.0,>=3.2.0->spacy) (1.2.1)\n",
      "Requirement already satisfied: markdown-it-py>=2.2.0 in c:\\users\\santh\\appdata\\local\\packages\\pythonsoftwarefoundation.python.3.12_qbz5n2kfra8p0\\localcache\\local-packages\\python312\\site-packages (from rich>=10.11.0->typer<1.0.0,>=0.3.0->spacy) (3.0.0)\n",
      "Requirement already satisfied: pygments<3.0.0,>=2.13.0 in c:\\users\\santh\\appdata\\local\\packages\\pythonsoftwarefoundation.python.3.12_qbz5n2kfra8p0\\localcache\\local-packages\\python312\\site-packages (from rich>=10.11.0->typer<1.0.0,>=0.3.0->spacy) (2.19.1)\n",
      "Requirement already satisfied: wrapt in c:\\users\\santh\\appdata\\local\\packages\\pythonsoftwarefoundation.python.3.12_qbz5n2kfra8p0\\localcache\\local-packages\\python312\\site-packages (from smart-open<8.0.0,>=5.2.1->weasel<0.5.0,>=0.1.0->spacy) (1.17.2)\n",
      "Requirement already satisfied: mdurl~=0.1 in c:\\users\\santh\\appdata\\local\\packages\\pythonsoftwarefoundation.python.3.12_qbz5n2kfra8p0\\localcache\\local-packages\\python312\\site-packages (from markdown-it-py>=2.2.0->rich>=10.11.0->typer<1.0.0,>=0.3.0->spacy) (0.1.2)\n",
      "Note: you may need to restart the kernel to use updated packages.\n"
     ]
    }
   ],
   "source": [
    "#key word extraction\n",
    "\n",
    "%pip install spacy"
   ]
  },
  {
   "cell_type": "code",
   "execution_count": 40,
   "metadata": {},
   "outputs": [
    {
     "name": "stdout",
     "output_type": "stream",
     "text": [
      "Defaulting to user installation because normal site-packages is not writeable\n",
      "Collecting en-core-web-sm==3.8.0\n",
      "  Downloading https://github.com/explosion/spacy-models/releases/download/en_core_web_sm-3.8.0/en_core_web_sm-3.8.0-py3-none-any.whl (12.8 MB)\n",
      "     ---------------------------------------- 0.0/12.8 MB ? eta -:--:--\n",
      "      --------------------------------------- 0.3/12.8 MB ? eta -:--:--\n",
      "     -- ------------------------------------- 0.8/12.8 MB 2.2 MB/s eta 0:00:06\n",
      "     ---- ----------------------------------- 1.6/12.8 MB 2.9 MB/s eta 0:00:04\n",
      "     ------ --------------------------------- 2.1/12.8 MB 2.7 MB/s eta 0:00:05\n",
      "     --------- ------------------------------ 2.9/12.8 MB 3.2 MB/s eta 0:00:04\n",
      "     ---------- ----------------------------- 3.4/12.8 MB 3.0 MB/s eta 0:00:04\n",
      "     ------------- -------------------------- 4.2/12.8 MB 3.1 MB/s eta 0:00:03\n",
      "     --------------- ------------------------ 5.0/12.8 MB 3.3 MB/s eta 0:00:03\n",
      "     ----------------- ---------------------- 5.5/12.8 MB 3.1 MB/s eta 0:00:03\n",
      "     ------------------ --------------------- 5.8/12.8 MB 3.0 MB/s eta 0:00:03\n",
      "     ------------------ --------------------- 6.0/12.8 MB 2.9 MB/s eta 0:00:03\n",
      "     -------------------- ------------------- 6.6/12.8 MB 2.7 MB/s eta 0:00:03\n",
      "     ---------------------- ----------------- 7.1/12.8 MB 2.7 MB/s eta 0:00:03\n",
      "     ------------------------ --------------- 7.9/12.8 MB 2.8 MB/s eta 0:00:02\n",
      "     --------------------------- ------------ 8.7/12.8 MB 2.9 MB/s eta 0:00:02\n",
      "     --------------------------- ------------ 8.9/12.8 MB 2.8 MB/s eta 0:00:02\n",
      "     ----------------------------- ---------- 9.4/12.8 MB 2.7 MB/s eta 0:00:02\n",
      "     ------------------------------- -------- 10.2/12.8 MB 2.7 MB/s eta 0:00:01\n",
      "     -------------------------------- ------- 10.5/12.8 MB 2.7 MB/s eta 0:00:01\n",
      "     --------------------------------- ------ 10.7/12.8 MB 2.6 MB/s eta 0:00:01\n",
      "     ---------------------------------- ----- 11.0/12.8 MB 2.5 MB/s eta 0:00:01\n",
      "     ------------------------------------ --- 11.5/12.8 MB 2.5 MB/s eta 0:00:01\n",
      "     ------------------------------------ --- 11.8/12.8 MB 2.5 MB/s eta 0:00:01\n",
      "     ------------------------------------ --- 11.8/12.8 MB 2.5 MB/s eta 0:00:01\n",
      "     ------------------------------------- -- 12.1/12.8 MB 2.4 MB/s eta 0:00:01\n",
      "     -------------------------------------- - 12.3/12.8 MB 2.3 MB/s eta 0:00:01\n",
      "     -------------------------------------- - 12.3/12.8 MB 2.3 MB/s eta 0:00:01\n",
      "     ---------------------------------------- 12.8/12.8 MB 2.2 MB/s eta 0:00:00\n",
      "\u001b[38;5;2m✔ Download and installation successful\u001b[0m\n",
      "You can now load the package via spacy.load('en_core_web_sm')\n"
     ]
    }
   ],
   "source": [
    "!python -m spacy download en_core_web_sm"
   ]
  },
  {
   "cell_type": "code",
   "execution_count": 41,
   "metadata": {},
   "outputs": [],
   "source": [
    "import spacy\n",
    "from collections import Counter\n",
    "from string import punctuation\n",
    "\n"
   ]
  },
  {
   "cell_type": "code",
   "execution_count": 42,
   "metadata": {},
   "outputs": [],
   "source": [
    "nlp = spacy.load(\"en_core_web_sm\")"
   ]
  },
  {
   "cell_type": "code",
   "execution_count": 43,
   "metadata": {},
   "outputs": [],
   "source": [
    "def get_hotwords(text):\n",
    "    result = []\n",
    "    pos_tag = ['PROPN', 'ADJ', 'NOUN'] \n",
    "    doc = nlp(text.lower()) \n",
    "    for token in doc:\n",
    "        if(token.text in nlp.Defaults.stop_words or token.text in punctuation):\n",
    "            continue\n",
    "        if(token.pos_ in pos_tag):\n",
    "            result.append(token.text)\n",
    "    return result"
   ]
  },
  {
   "cell_type": "code",
   "execution_count": 44,
   "metadata": {},
   "outputs": [
    {
     "name": "stdout",
     "output_type": "stream",
     "text": [
      "partial\n",
      "score\n",
      "example\n",
      "standard\n",
      "machine\n",
      "keyword\n",
      "segment\n",
      "f1\n",
      "learning\n",
      "extractors\n"
     ]
    }
   ],
   "source": [
    "new_text = \"\"\"\n",
    "When it comes to evaluating the performance of keyword extractors, you can use some of the standard metrics in machine learning: accuracy, precision, recall, and F1 score. However, these metrics don’t reflect partial matches. they only consider the perfect match between an extracted segment and the correct prediction for that tag.\n",
    "Fortunately, there are some other metrics capable of capturing partial matches. An example of this is ROUGE.\n",
    "\"\"\"\n",
    "output = set(get_hotwords(new_text))\n",
    "most_common_list = Counter(output).most_common(10)\n",
    "for item in most_common_list:\n",
    "   print(item[0])"
   ]
  },
  {
   "cell_type": "code",
   "execution_count": 45,
   "metadata": {},
   "outputs": [
    {
     "name": "stdout",
     "output_type": "stream",
     "text": [
      "it\n",
      "is\n",
      "good\n",
      "to\n",
      "be\n",
      "a\n",
      "python\n",
      "who\n",
      "is\n",
      "pythonli\n",
      "python\n",
      "with\n",
      "python\n"
     ]
    }
   ],
   "source": [
    "from nltk.stem import PorterStemmer\n",
    "sentence = \"It is good to be a pythoner who is pythonly pythoning with python\"\n",
    "words = nltk.word_tokenize(sentence)\n",
    "for word in words:\n",
    "    ps = PorterStemmer()\n",
    "    print(ps.stem(word))"
   ]
  },
  {
   "cell_type": "code",
   "execution_count": 46,
   "metadata": {},
   "outputs": [
    {
     "name": "stdout",
     "output_type": "stream",
     "text": [
      "run\n"
     ]
    }
   ],
   "source": [
    "from nltk.stem import PorterStemmer\n",
    "ps = PorterStemmer()\n",
    "print(ps.stem(\"running\"))"
   ]
  },
  {
   "cell_type": "code",
   "execution_count": 47,
   "metadata": {},
   "outputs": [
    {
     "name": "stdout",
     "output_type": "stream",
     "text": [
      "it\n",
      "is\n",
      "good\n",
      "to\n",
      "be\n",
      "a\n",
      "python\n",
      "who\n",
      "is\n",
      "pythonli\n",
      "python\n",
      "with\n",
      "python\n"
     ]
    }
   ],
   "source": [
    "sentence = \"It is good to be a pythoner who is pythonly pythoning with python\"\n",
    "words = nltk.word_tokenize(sentence)\n",
    "for word in words:\n",
    "    ps = PorterStemmer()\n",
    "    print(ps.stem(word))"
   ]
  },
  {
   "cell_type": "code",
   "execution_count": 48,
   "metadata": {},
   "outputs": [
    {
     "data": {
      "text/plain": [
       "'civil'"
      ]
     },
     "execution_count": 48,
     "metadata": {},
     "output_type": "execute_result"
    }
   ],
   "source": [
    "from nltk.stem.snowball import SnowballStemmer\n",
    "stemmer = SnowballStemmer(language = \"english\")\n",
    "word = \"civilization\"\n",
    "stemmer.stem(word)"
   ]
  },
  {
   "cell_type": "code",
   "execution_count": 49,
   "metadata": {},
   "outputs": [
    {
     "name": "stdout",
     "output_type": "stream",
     "text": [
      "it\n",
      "is\n",
      "good\n",
      "to\n",
      "be\n",
      "a\n",
      "python\n",
      "who\n",
      "is\n",
      "python\n",
      "python\n",
      "with\n",
      "python\n"
     ]
    }
   ],
   "source": [
    "sentence = \"It is good to be a pythoner who is pythonly pythoning with python\"\n",
    "words = nltk.word_tokenize(sentence)\n",
    "for word in words:\n",
    "    stemmer = SnowballStemmer(language = \"english\")\n",
    "    print(stemmer.stem(word))"
   ]
  },
  {
   "cell_type": "code",
   "execution_count": 50,
   "metadata": {},
   "outputs": [
    {
     "name": "stdout",
     "output_type": "stream",
     "text": [
      "it\n",
      "is\n",
      "good\n",
      "to\n",
      "be\n",
      "a\n",
      "python\n",
      "who\n",
      "is\n",
      "python\n",
      "python\n",
      "with\n",
      "python\n"
     ]
    }
   ],
   "source": [
    "from nltk.stem import SnowballStemmer, LancasterStemmer\n",
    "sentence = \"It is good to be a pythoner who is pythonly pythoning with python\"\n",
    "words = nltk.word_tokenize(sentence)\n",
    "for word in words:\n",
    "    lanc = LancasterStemmer()\n",
    "    print(lanc.stem(word))"
   ]
  },
  {
   "cell_type": "code",
   "execution_count": 51,
   "metadata": {},
   "outputs": [
    {
     "name": "stdout",
     "output_type": "stream",
     "text": [
      " PorterStemmer: 85.39999999999999%\n"
     ]
    }
   ],
   "source": [
    "tokenized_eu = word_tokenize(text)\n",
    "ps = PorterStemmer()\n",
    "porter_eu = [ps.stem(word) for word in tokenized_eu]\n",
    "print(f\" PorterStemmer: {100*round(len(''.join(porter_eu))/len(''.join(word_tokenize(text))),3)}%\")\n"
   ]
  },
  {
   "cell_type": "code",
   "execution_count": 52,
   "metadata": {},
   "outputs": [
    {
     "name": "stdout",
     "output_type": "stream",
     "text": [
      " SnowballStemmer: 86.1%\n"
     ]
    }
   ],
   "source": [
    "snowball = SnowballStemmer(language='english')\n",
    "porter_eu = [snowball.stem(word) for word in tokenized_eu]\n",
    "print(f\" SnowballStemmer: {100*round(len(''.join(porter_eu))/len(''.join(word_tokenize(text))),3)}%\")\n"
   ]
  },
  {
   "cell_type": "code",
   "execution_count": 53,
   "metadata": {},
   "outputs": [
    {
     "name": "stdout",
     "output_type": "stream",
     "text": [
      " LancasterStemmerr: 73.8%\n"
     ]
    }
   ],
   "source": [
    "\n",
    "lanc = LancasterStemmer()\n",
    "porter_eu = [lanc.stem(word) for word in tokenized_eu]\n",
    "print(f\" LancasterStemmerr: {100*round(len(''.join(porter_eu))/len(''.join(word_tokenize(text))),3)}%\")"
   ]
  },
  {
   "cell_type": "code",
   "execution_count": 54,
   "metadata": {},
   "outputs": [],
   "source": [
    "from nltk.stem import WordNetLemmatizer"
   ]
  },
  {
   "cell_type": "code",
   "execution_count": 55,
   "metadata": {},
   "outputs": [
    {
     "name": "stderr",
     "output_type": "stream",
     "text": [
      "[nltk_data] Downloading package wordnet to\n",
      "[nltk_data]     C:\\Users\\santh\\AppData\\Roaming\\nltk_data...\n",
      "[nltk_data]   Package wordnet is already up-to-date!\n"
     ]
    },
    {
     "data": {
      "text/plain": [
       "True"
      ]
     },
     "execution_count": 55,
     "metadata": {},
     "output_type": "execute_result"
    }
   ],
   "source": [
    "nltk.download('wordnet')"
   ]
  },
  {
   "cell_type": "code",
   "execution_count": 56,
   "metadata": {},
   "outputs": [
    {
     "name": "stdout",
     "output_type": "stream",
     "text": [
      "Defaulting to user installation because normal site-packages is not writeable\n",
      "Collecting scikit-learn\n",
      "  Using cached scikit_learn-1.6.1-cp312-cp312-win_amd64.whl.metadata (15 kB)\n",
      "Collecting pandas\n",
      "  Using cached pandas-2.2.3-cp312-cp312-win_amd64.whl.metadata (19 kB)\n",
      "Requirement already satisfied: numpy>=1.19.5 in c:\\users\\santh\\appdata\\local\\packages\\pythonsoftwarefoundation.python.3.12_qbz5n2kfra8p0\\localcache\\local-packages\\python312\\site-packages (from scikit-learn) (2.2.2)\n",
      "Collecting scipy>=1.6.0 (from scikit-learn)\n",
      "  Using cached scipy-1.15.1-cp312-cp312-win_amd64.whl.metadata (60 kB)\n",
      "Requirement already satisfied: joblib>=1.2.0 in c:\\users\\santh\\appdata\\local\\packages\\pythonsoftwarefoundation.python.3.12_qbz5n2kfra8p0\\localcache\\local-packages\\python312\\site-packages (from scikit-learn) (1.4.2)\n",
      "Collecting threadpoolctl>=3.1.0 (from scikit-learn)\n",
      "  Using cached threadpoolctl-3.5.0-py3-none-any.whl.metadata (13 kB)\n",
      "Requirement already satisfied: python-dateutil>=2.8.2 in c:\\users\\santh\\appdata\\local\\packages\\pythonsoftwarefoundation.python.3.12_qbz5n2kfra8p0\\localcache\\local-packages\\python312\\site-packages (from pandas) (2.9.0.post0)\n",
      "Collecting pytz>=2020.1 (from pandas)\n",
      "  Using cached pytz-2025.1-py2.py3-none-any.whl.metadata (22 kB)\n",
      "Collecting tzdata>=2022.7 (from pandas)\n",
      "  Using cached tzdata-2025.1-py2.py3-none-any.whl.metadata (1.4 kB)\n",
      "Requirement already satisfied: six>=1.5 in c:\\users\\santh\\appdata\\local\\packages\\pythonsoftwarefoundation.python.3.12_qbz5n2kfra8p0\\localcache\\local-packages\\python312\\site-packages (from python-dateutil>=2.8.2->pandas) (1.17.0)\n",
      "Using cached scikit_learn-1.6.1-cp312-cp312-win_amd64.whl (11.1 MB)\n",
      "Using cached pandas-2.2.3-cp312-cp312-win_amd64.whl (11.5 MB)\n",
      "Using cached pytz-2025.1-py2.py3-none-any.whl (507 kB)\n",
      "Downloading scipy-1.15.1-cp312-cp312-win_amd64.whl (43.6 MB)\n",
      "   ---------------------------------------- 0.0/43.6 MB ? eta -:--:--\n",
      "   ---------------------------------------- 0.0/43.6 MB ? eta -:--:--\n",
      "   ---------------------------------------- 0.3/43.6 MB ? eta -:--:--\n",
      "   ---------------------------------------- 0.5/43.6 MB 837.5 kB/s eta 0:00:52\n",
      "    --------------------------------------- 1.0/43.6 MB 1.5 MB/s eta 0:00:29\n",
      "   - -------------------------------------- 1.6/43.6 MB 1.7 MB/s eta 0:00:26\n",
      "   - -------------------------------------- 2.1/43.6 MB 1.8 MB/s eta 0:00:23\n",
      "   -- ------------------------------------- 2.4/43.6 MB 1.7 MB/s eta 0:00:25\n",
      "   -- ------------------------------------- 2.4/43.6 MB 1.7 MB/s eta 0:00:25\n",
      "   -- ------------------------------------- 2.6/43.6 MB 1.5 MB/s eta 0:00:27\n",
      "   -- ------------------------------------- 2.9/43.6 MB 1.5 MB/s eta 0:00:28\n",
      "   -- ------------------------------------- 3.1/43.6 MB 1.4 MB/s eta 0:00:30\n",
      "   -- ------------------------------------- 3.1/43.6 MB 1.4 MB/s eta 0:00:30\n",
      "   --- ------------------------------------ 3.4/43.6 MB 1.3 MB/s eta 0:00:30\n",
      "   --- ------------------------------------ 3.9/43.6 MB 1.4 MB/s eta 0:00:30\n",
      "   --- ------------------------------------ 3.9/43.6 MB 1.4 MB/s eta 0:00:30\n",
      "   --- ------------------------------------ 4.2/43.6 MB 1.3 MB/s eta 0:00:31\n",
      "   ---- ----------------------------------- 4.5/43.6 MB 1.3 MB/s eta 0:00:31\n",
      "   ---- ----------------------------------- 4.7/43.6 MB 1.3 MB/s eta 0:00:30\n",
      "   ---- ----------------------------------- 4.7/43.6 MB 1.3 MB/s eta 0:00:30\n",
      "   ---- ----------------------------------- 5.0/43.6 MB 1.2 MB/s eta 0:00:31\n",
      "   ----- ---------------------------------- 5.5/43.6 MB 1.3 MB/s eta 0:00:31\n",
      "   ----- ---------------------------------- 5.8/43.6 MB 1.3 MB/s eta 0:00:31\n",
      "   ----- ---------------------------------- 6.0/43.6 MB 1.3 MB/s eta 0:00:30\n",
      "   ----- ---------------------------------- 6.0/43.6 MB 1.3 MB/s eta 0:00:30\n",
      "   ----- ---------------------------------- 6.3/43.6 MB 1.2 MB/s eta 0:00:30\n",
      "   ------ --------------------------------- 6.6/43.6 MB 1.2 MB/s eta 0:00:31\n",
      "   ------ --------------------------------- 6.8/43.6 MB 1.2 MB/s eta 0:00:31\n",
      "   ------ --------------------------------- 6.8/43.6 MB 1.2 MB/s eta 0:00:31\n",
      "   ------ --------------------------------- 7.3/43.6 MB 1.2 MB/s eta 0:00:31\n",
      "   ------ --------------------------------- 7.6/43.6 MB 1.2 MB/s eta 0:00:30\n",
      "   ------ --------------------------------- 7.6/43.6 MB 1.2 MB/s eta 0:00:30\n",
      "   ------- -------------------------------- 7.9/43.6 MB 1.2 MB/s eta 0:00:30\n",
      "   ------- -------------------------------- 7.9/43.6 MB 1.2 MB/s eta 0:00:30\n",
      "   ------- -------------------------------- 7.9/43.6 MB 1.2 MB/s eta 0:00:30\n",
      "   ------- -------------------------------- 8.1/43.6 MB 1.1 MB/s eta 0:00:32\n",
      "   ------- -------------------------------- 8.4/43.6 MB 1.1 MB/s eta 0:00:32\n",
      "   -------- ------------------------------- 8.9/43.6 MB 1.2 MB/s eta 0:00:31\n",
      "   -------- ------------------------------- 9.2/43.6 MB 1.2 MB/s eta 0:00:30\n",
      "   -------- ------------------------------- 9.2/43.6 MB 1.2 MB/s eta 0:00:30\n",
      "   -------- ------------------------------- 9.4/43.6 MB 1.2 MB/s eta 0:00:30\n",
      "   -------- ------------------------------- 9.7/43.6 MB 1.2 MB/s eta 0:00:30\n",
      "   -------- ------------------------------- 9.7/43.6 MB 1.2 MB/s eta 0:00:30\n",
      "   --------- ------------------------------ 10.0/43.6 MB 1.1 MB/s eta 0:00:30\n",
      "   --------- ------------------------------ 10.0/43.6 MB 1.1 MB/s eta 0:00:30\n",
      "   --------- ------------------------------ 10.5/43.6 MB 1.1 MB/s eta 0:00:30\n",
      "   --------- ------------------------------ 10.7/43.6 MB 1.1 MB/s eta 0:00:30\n",
      "   ---------- ----------------------------- 11.0/43.6 MB 1.1 MB/s eta 0:00:29\n",
      "   ---------- ----------------------------- 11.0/43.6 MB 1.1 MB/s eta 0:00:29\n",
      "   ---------- ----------------------------- 11.0/43.6 MB 1.1 MB/s eta 0:00:29\n",
      "   ---------- ----------------------------- 11.3/43.6 MB 1.1 MB/s eta 0:00:30\n",
      "   ---------- ----------------------------- 11.3/43.6 MB 1.1 MB/s eta 0:00:30\n",
      "   ---------- ----------------------------- 11.5/43.6 MB 1.1 MB/s eta 0:00:30\n",
      "   ---------- ----------------------------- 11.5/43.6 MB 1.1 MB/s eta 0:00:30\n",
      "   ---------- ----------------------------- 11.5/43.6 MB 1.1 MB/s eta 0:00:30\n",
      "   ---------- ----------------------------- 11.8/43.6 MB 1.0 MB/s eta 0:00:31\n",
      "   ---------- ----------------------------- 11.8/43.6 MB 1.0 MB/s eta 0:00:31\n",
      "   ---------- ----------------------------- 11.8/43.6 MB 1.0 MB/s eta 0:00:31\n",
      "   ---------- ----------------------------- 11.8/43.6 MB 1.0 MB/s eta 0:00:31\n",
      "   ----------- ---------------------------- 12.1/43.6 MB 985.6 kB/s eta 0:00:33\n",
      "   ----------- ---------------------------- 12.1/43.6 MB 985.6 kB/s eta 0:00:33\n",
      "   ----------- ---------------------------- 12.1/43.6 MB 985.6 kB/s eta 0:00:33\n",
      "   ----------- ---------------------------- 12.1/43.6 MB 985.6 kB/s eta 0:00:33\n",
      "   ----------- ---------------------------- 12.3/43.6 MB 935.4 kB/s eta 0:00:34\n",
      "   ----------- ---------------------------- 12.3/43.6 MB 935.4 kB/s eta 0:00:34\n",
      "   ----------- ---------------------------- 12.3/43.6 MB 935.4 kB/s eta 0:00:34\n",
      "   ----------- ---------------------------- 12.6/43.6 MB 920.1 kB/s eta 0:00:34\n",
      "   ----------- ---------------------------- 12.8/43.6 MB 915.1 kB/s eta 0:00:34\n",
      "   ----------- ---------------------------- 12.8/43.6 MB 915.1 kB/s eta 0:00:34\n",
      "   ------------ --------------------------- 13.1/43.6 MB 905.3 kB/s eta 0:00:34\n",
      "   ------------ --------------------------- 13.1/43.6 MB 905.3 kB/s eta 0:00:34\n",
      "   ------------ --------------------------- 13.4/43.6 MB 901.0 kB/s eta 0:00:34\n",
      "   ------------ --------------------------- 13.4/43.6 MB 901.0 kB/s eta 0:00:34\n",
      "   ------------ --------------------------- 13.6/43.6 MB 895.9 kB/s eta 0:00:34\n",
      "   ------------ --------------------------- 13.9/43.6 MB 897.5 kB/s eta 0:00:34\n",
      "   ------------ --------------------------- 13.9/43.6 MB 897.5 kB/s eta 0:00:34\n",
      "   ------------ --------------------------- 14.2/43.6 MB 891.9 kB/s eta 0:00:34\n",
      "   ------------ --------------------------- 14.2/43.6 MB 891.9 kB/s eta 0:00:34\n",
      "   ------------- -------------------------- 14.4/43.6 MB 884.7 kB/s eta 0:00:34\n",
      "   ------------- -------------------------- 14.4/43.6 MB 884.7 kB/s eta 0:00:34\n",
      "   ------------- -------------------------- 14.4/43.6 MB 884.7 kB/s eta 0:00:34\n",
      "   ------------- -------------------------- 14.7/43.6 MB 873.0 kB/s eta 0:00:34\n",
      "   ------------- -------------------------- 14.7/43.6 MB 873.0 kB/s eta 0:00:34\n",
      "   ------------- -------------------------- 14.9/43.6 MB 865.1 kB/s eta 0:00:34\n",
      "   ------------- -------------------------- 15.2/43.6 MB 869.3 kB/s eta 0:00:33\n",
      "   ------------- -------------------------- 15.2/43.6 MB 869.3 kB/s eta 0:00:33\n",
      "   -------------- ------------------------- 15.5/43.6 MB 865.7 kB/s eta 0:00:33\n",
      "   -------------- ------------------------- 15.5/43.6 MB 865.7 kB/s eta 0:00:33\n",
      "   -------------- ------------------------- 15.7/43.6 MB 861.5 kB/s eta 0:00:33\n",
      "   -------------- ------------------------- 16.0/43.6 MB 858.9 kB/s eta 0:00:33\n",
      "   -------------- ------------------------- 16.0/43.6 MB 858.9 kB/s eta 0:00:33\n",
      "   -------------- ------------------------- 16.3/43.6 MB 860.0 kB/s eta 0:00:32\n",
      "   --------------- ------------------------ 16.5/43.6 MB 863.2 kB/s eta 0:00:32\n",
      "   --------------- ------------------------ 16.8/43.6 MB 862.8 kB/s eta 0:00:32\n",
      "   --------------- ------------------------ 16.8/43.6 MB 862.8 kB/s eta 0:00:32\n",
      "   --------------- ------------------------ 17.0/43.6 MB 865.2 kB/s eta 0:00:31\n",
      "   --------------- ------------------------ 17.3/43.6 MB 869.0 kB/s eta 0:00:31\n",
      "   ---------------- ----------------------- 17.6/43.6 MB 869.8 kB/s eta 0:00:30\n",
      "   ---------------- ----------------------- 17.6/43.6 MB 869.8 kB/s eta 0:00:30\n",
      "   ---------------- ----------------------- 17.8/43.6 MB 866.0 kB/s eta 0:00:30\n",
      "   ---------------- ----------------------- 18.1/43.6 MB 865.6 kB/s eta 0:00:30\n",
      "   ---------------- ----------------------- 18.4/43.6 MB 868.4 kB/s eta 0:00:30\n",
      "   ----------------- ---------------------- 18.6/43.6 MB 872.5 kB/s eta 0:00:29\n",
      "   ----------------- ---------------------- 18.6/43.6 MB 872.5 kB/s eta 0:00:29\n",
      "   ----------------- ---------------------- 18.9/43.6 MB 869.5 kB/s eta 0:00:29\n",
      "   ----------------- ---------------------- 19.1/43.6 MB 872.8 kB/s eta 0:00:29\n",
      "   ----------------- ---------------------- 19.4/43.6 MB 876.1 kB/s eta 0:00:28\n",
      "   ------------------ --------------------- 19.7/43.6 MB 879.2 kB/s eta 0:00:28\n",
      "   ------------------ --------------------- 19.9/43.6 MB 882.4 kB/s eta 0:00:27\n",
      "   ------------------ --------------------- 20.2/43.6 MB 885.5 kB/s eta 0:00:27\n",
      "   ------------------ --------------------- 20.4/43.6 MB 886.6 kB/s eta 0:00:27\n",
      "   ------------------ --------------------- 20.7/43.6 MB 889.6 kB/s eta 0:00:26\n",
      "   ------------------ --------------------- 20.7/43.6 MB 889.6 kB/s eta 0:00:26\n",
      "   ------------------- -------------------- 21.0/43.6 MB 891.3 kB/s eta 0:00:26\n",
      "   ------------------- -------------------- 21.5/43.6 MB 899.4 kB/s eta 0:00:25\n",
      "   ------------------- -------------------- 21.8/43.6 MB 902.7 kB/s eta 0:00:25\n",
      "   -------------------- ------------------- 22.0/43.6 MB 907.2 kB/s eta 0:00:24\n",
      "   -------------------- ------------------- 22.3/43.6 MB 908.6 kB/s eta 0:00:24\n",
      "   -------------------- ------------------- 22.8/43.6 MB 920.2 kB/s eta 0:00:23\n",
      "   --------------------- ------------------ 23.1/43.6 MB 927.3 kB/s eta 0:00:23\n",
      "   --------------------- ------------------ 23.6/43.6 MB 939.1 kB/s eta 0:00:22\n",
      "   ---------------------- ----------------- 24.4/43.6 MB 959.3 kB/s eta 0:00:21\n",
      "   ---------------------- ----------------- 24.9/43.6 MB 972.3 kB/s eta 0:00:20\n",
      "   ----------------------- ---------------- 25.4/43.6 MB 985.7 kB/s eta 0:00:19\n",
      "   ----------------------- ---------------- 26.0/43.6 MB 998.9 kB/s eta 0:00:18\n",
      "   ------------------------ --------------- 26.5/43.6 MB 1.0 MB/s eta 0:00:17\n",
      "   ------------------------ --------------- 27.0/43.6 MB 1.0 MB/s eta 0:00:17\n",
      "   ------------------------- -------------- 27.5/43.6 MB 1.0 MB/s eta 0:00:16\n",
      "   ------------------------- -------------- 28.3/43.6 MB 1.1 MB/s eta 0:00:15\n",
      "   -------------------------- ------------- 28.8/43.6 MB 1.1 MB/s eta 0:00:14\n",
      "   -------------------------- ------------- 29.4/43.6 MB 1.1 MB/s eta 0:00:14\n",
      "   --------------------------- ------------ 29.6/43.6 MB 1.1 MB/s eta 0:00:13\n",
      "   --------------------------- ------------ 30.1/43.6 MB 1.1 MB/s eta 0:00:13\n",
      "   ---------------------------- ----------- 30.7/43.6 MB 1.1 MB/s eta 0:00:12\n",
      "   ---------------------------- ----------- 31.5/43.6 MB 1.1 MB/s eta 0:00:11\n",
      "   ----------------------------- ---------- 31.7/43.6 MB 1.1 MB/s eta 0:00:11\n",
      "   ----------------------------- ---------- 32.0/43.6 MB 1.1 MB/s eta 0:00:11\n",
      "   ----------------------------- ---------- 32.5/43.6 MB 1.1 MB/s eta 0:00:10\n",
      "   ------------------------------ --------- 32.8/43.6 MB 1.1 MB/s eta 0:00:10\n",
      "   ------------------------------ --------- 33.0/43.6 MB 1.1 MB/s eta 0:00:10\n",
      "   ------------------------------ --------- 33.6/43.6 MB 1.1 MB/s eta 0:00:09\n",
      "   ------------------------------- -------- 33.8/43.6 MB 1.1 MB/s eta 0:00:09\n",
      "   ------------------------------- -------- 34.1/43.6 MB 1.1 MB/s eta 0:00:09\n",
      "   ------------------------------- -------- 34.3/43.6 MB 1.2 MB/s eta 0:00:09\n",
      "   ------------------------------- -------- 34.9/43.6 MB 1.2 MB/s eta 0:00:08\n",
      "   -------------------------------- ------- 35.4/43.6 MB 1.2 MB/s eta 0:00:08\n",
      "   -------------------------------- ------- 35.9/43.6 MB 1.2 MB/s eta 0:00:07\n",
      "   --------------------------------- ------ 36.2/43.6 MB 1.2 MB/s eta 0:00:07\n",
      "   --------------------------------- ------ 36.4/43.6 MB 1.2 MB/s eta 0:00:07\n",
      "   --------------------------------- ------ 37.0/43.6 MB 1.2 MB/s eta 0:00:06\n",
      "   ---------------------------------- ----- 37.2/43.6 MB 1.2 MB/s eta 0:00:06\n",
      "   ---------------------------------- ----- 37.7/43.6 MB 1.2 MB/s eta 0:00:05\n",
      "   ---------------------------------- ----- 37.7/43.6 MB 1.2 MB/s eta 0:00:05\n",
      "   ---------------------------------- ----- 38.0/43.6 MB 1.2 MB/s eta 0:00:05\n",
      "   ----------------------------------- ---- 38.5/43.6 MB 1.2 MB/s eta 0:00:05\n",
      "   ----------------------------------- ---- 38.8/43.6 MB 1.2 MB/s eta 0:00:05\n",
      "   ----------------------------------- ---- 39.1/43.6 MB 1.2 MB/s eta 0:00:04\n",
      "   ------------------------------------ --- 39.3/43.6 MB 1.2 MB/s eta 0:00:04\n",
      "   ------------------------------------ --- 39.6/43.6 MB 1.2 MB/s eta 0:00:04\n",
      "   ------------------------------------ --- 39.6/43.6 MB 1.2 MB/s eta 0:00:04\n",
      "   ------------------------------------ --- 39.8/43.6 MB 1.2 MB/s eta 0:00:04\n",
      "   ------------------------------------ --- 40.1/43.6 MB 1.2 MB/s eta 0:00:03\n",
      "   ------------------------------------- -- 40.6/43.6 MB 1.2 MB/s eta 0:00:03\n",
      "   ------------------------------------- -- 40.9/43.6 MB 1.2 MB/s eta 0:00:03\n",
      "   ------------------------------------- -- 41.4/43.6 MB 1.2 MB/s eta 0:00:02\n",
      "   ------------------------------------- -- 41.4/43.6 MB 1.2 MB/s eta 0:00:02\n",
      "   ------------------------------------- -- 41.4/43.6 MB 1.2 MB/s eta 0:00:02\n",
      "   -------------------------------------- - 41.9/43.6 MB 1.2 MB/s eta 0:00:02\n",
      "   -------------------------------------- - 42.2/43.6 MB 1.2 MB/s eta 0:00:02\n",
      "   -------------------------------------- - 42.5/43.6 MB 1.2 MB/s eta 0:00:01\n",
      "   ---------------------------------------  43.0/43.6 MB 1.2 MB/s eta 0:00:01\n",
      "   ---------------------------------------  43.3/43.6 MB 1.2 MB/s eta 0:00:01\n",
      "   ---------------------------------------  43.5/43.6 MB 1.2 MB/s eta 0:00:01\n",
      "   ---------------------------------------- 43.6/43.6 MB 1.2 MB/s eta 0:00:00\n",
      "Downloading threadpoolctl-3.5.0-py3-none-any.whl (18 kB)\n",
      "Using cached tzdata-2025.1-py2.py3-none-any.whl (346 kB)\n",
      "Installing collected packages: pytz, tzdata, threadpoolctl, scipy, scikit-learn, pandas\n",
      "Successfully installed pandas-2.2.3 pytz-2025.1 scikit-learn-1.6.1 scipy-1.15.1 threadpoolctl-3.5.0 tzdata-2025.1\n",
      "Note: you may need to restart the kernel to use updated packages.\n"
     ]
    }
   ],
   "source": [
    "%pip install scikit-learn pandas\n"
   ]
  },
  {
   "cell_type": "code",
   "execution_count": 57,
   "metadata": {},
   "outputs": [],
   "source": [
    "import pandas as pd"
   ]
  },
  {
   "cell_type": "code",
   "execution_count": 58,
   "metadata": {},
   "outputs": [
    {
     "name": "stdout",
     "output_type": "stream",
     "text": [
      "['This is the first document.', 'This document is the second document.', 'And this is the third one.', 'Is this the first document?']\n"
     ]
    }
   ],
   "source": [
    "text = ['This is the first document.',\n",
    "        'This document is the second document.',\n",
    "        'And this is the third one.',\n",
    "        'Is this the first document?']\n",
    "print(text)"
   ]
  },
  {
   "cell_type": "code",
   "execution_count": 61,
   "metadata": {},
   "outputs": [
    {
     "data": {
      "text/html": [
       "<div>\n",
       "<style scoped>\n",
       "    .dataframe tbody tr th:only-of-type {\n",
       "        vertical-align: middle;\n",
       "    }\n",
       "\n",
       "    .dataframe tbody tr th {\n",
       "        vertical-align: top;\n",
       "    }\n",
       "\n",
       "    .dataframe thead th {\n",
       "        text-align: right;\n",
       "    }\n",
       "</style>\n",
       "<table border=\"1\" class=\"dataframe\">\n",
       "  <thead>\n",
       "    <tr style=\"text-align: right;\">\n",
       "      <th></th>\n",
       "      <th>and</th>\n",
       "      <th>document</th>\n",
       "      <th>first</th>\n",
       "      <th>is</th>\n",
       "      <th>one</th>\n",
       "      <th>second</th>\n",
       "      <th>the</th>\n",
       "      <th>third</th>\n",
       "      <th>this</th>\n",
       "    </tr>\n",
       "  </thead>\n",
       "  <tbody>\n",
       "    <tr>\n",
       "      <th>This is the first document.</th>\n",
       "      <td>0</td>\n",
       "      <td>1</td>\n",
       "      <td>1</td>\n",
       "      <td>1</td>\n",
       "      <td>0</td>\n",
       "      <td>0</td>\n",
       "      <td>1</td>\n",
       "      <td>0</td>\n",
       "      <td>1</td>\n",
       "    </tr>\n",
       "    <tr>\n",
       "      <th>This document is the second document.</th>\n",
       "      <td>0</td>\n",
       "      <td>2</td>\n",
       "      <td>0</td>\n",
       "      <td>1</td>\n",
       "      <td>0</td>\n",
       "      <td>1</td>\n",
       "      <td>1</td>\n",
       "      <td>0</td>\n",
       "      <td>1</td>\n",
       "    </tr>\n",
       "    <tr>\n",
       "      <th>And this is the third one.</th>\n",
       "      <td>1</td>\n",
       "      <td>0</td>\n",
       "      <td>0</td>\n",
       "      <td>1</td>\n",
       "      <td>1</td>\n",
       "      <td>0</td>\n",
       "      <td>1</td>\n",
       "      <td>1</td>\n",
       "      <td>1</td>\n",
       "    </tr>\n",
       "    <tr>\n",
       "      <th>Is this the first document?</th>\n",
       "      <td>0</td>\n",
       "      <td>1</td>\n",
       "      <td>1</td>\n",
       "      <td>1</td>\n",
       "      <td>0</td>\n",
       "      <td>0</td>\n",
       "      <td>1</td>\n",
       "      <td>0</td>\n",
       "      <td>1</td>\n",
       "    </tr>\n",
       "  </tbody>\n",
       "</table>\n",
       "</div>"
      ],
      "text/plain": [
       "                                       and  document  first  is  one  second  \\\n",
       "This is the first document.              0         1      1   1    0       0   \n",
       "This document is the second document.    0         2      0   1    0       1   \n",
       "And this is the third one.               1         0      0   1    1       0   \n",
       "Is this the first document?              0         1      1   1    0       0   \n",
       "\n",
       "                                       the  third  this  \n",
       "This is the first document.              1      0     1  \n",
       "This document is the second document.    1      0     1  \n",
       "And this is the third one.               1      1     1  \n",
       "Is this the first document?              1      0     1  "
      ]
     },
     "execution_count": 61,
     "metadata": {},
     "output_type": "execute_result"
    }
   ],
   "source": [
    "from sklearn.feature_extraction.text import CountVectorizer\n",
    "vectorizer = CountVectorizer()\n",
    "X = vectorizer.fit_transform(text)\n",
    "columns = vectorizer.get_feature_names_out()\n",
    "\n",
    "df =  pd.DataFrame(X.toarray(), columns=columns, index=text)\n",
    "df"
   ]
  }
 ],
 "metadata": {
  "kernelspec": {
   "display_name": "Python 3",
   "language": "python",
   "name": "python3"
  },
  "language_info": {
   "codemirror_mode": {
    "name": "ipython",
    "version": 3
   },
   "file_extension": ".py",
   "mimetype": "text/x-python",
   "name": "python",
   "nbconvert_exporter": "python",
   "pygments_lexer": "ipython3",
   "version": "3.12.8"
  }
 },
 "nbformat": 4,
 "nbformat_minor": 2
}
